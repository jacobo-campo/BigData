{
 "cells": [
  {
   "cell_type": "markdown",
   "id": "146be319",
   "metadata": {},
   "source": [
    "# **Clase 5 - Big Data y Análisis de Datos**\n",
    "### Jacobo Campo Robledo"
   ]
  },
  {
   "cell_type": "markdown",
   "id": "400b3418",
   "metadata": {},
   "source": [
    "## **Actividad 1: Limpieza, exploración y visualización de datos**"
   ]
  },
  {
   "cell_type": "markdown",
   "id": "1dc3024a",
   "metadata": {},
   "source": [
    "## Instalar, cargar Librerías"
   ]
  },
  {
   "cell_type": "code",
   "execution_count": null,
   "id": "85c5e277",
   "metadata": {},
   "outputs": [],
   "source": [
    "# Importar librerías\n",
    "\n",
    "%pip install pandas numpy matplotlib seaborn\n",
    "\n",
    "# Manejo de datos\n",
    "import pandas as pd\n",
    "import numpy as np\n",
    "\n",
    "# Visualización de datos\n",
    "from matplotlib import pyplot as plt\n",
    "import seaborn as sns\n"
   ]
  },
  {
   "cell_type": "markdown",
   "id": "50fae083",
   "metadata": {},
   "source": [
    "## Cargar el conjunto de datos"
   ]
  },
  {
   "cell_type": "markdown",
   "id": "4d4336ab",
   "metadata": {},
   "source": [
    "Vamos a invocar nuestro primer método \".método()\" y le asignaremos un nombre."
   ]
  },
  {
   "cell_type": "code",
   "execution_count": 5,
   "id": "294b1fac",
   "metadata": {},
   "outputs": [],
   "source": [
    "# Cargar el conjunto de datos que está en .csv y llamarlo df (dataframe)\n",
    "df = pd.read_csv('eda_missing_data_dataset1.csv')\n"
   ]
  },
  {
   "cell_type": "markdown",
   "id": "82209622",
   "metadata": {},
   "source": [
    "## Exploración del conjunto de datos"
   ]
  },
  {
   "cell_type": "markdown",
   "id": "cef0360a",
   "metadata": {},
   "source": [
    "### Exploración de filas"
   ]
  },
  {
   "cell_type": "code",
   "execution_count": null,
   "id": "7b8c3f27",
   "metadata": {},
   "outputs": [],
   "source": [
    "# Verificar qué es df\n",
    "df"
   ]
  },
  {
   "cell_type": "code",
   "execution_count": null,
   "id": "ec55e96a",
   "metadata": {},
   "outputs": [],
   "source": [
    "# Imprimir las primeras cinco filas del conjunto de datos\n",
    "df.head()"
   ]
  },
  {
   "cell_type": "markdown",
   "id": "a8573382",
   "metadata": {},
   "source": [
    "<span style=\"color:green\">**Pregunta 1:**</span> ¿desde qué número se enumeran las filas?\n",
    "\n",
    "<span style=\"color:green\">**Respuesta:**</span> "
   ]
  },
  {
   "cell_type": "markdown",
   "id": "6c0d8e7a",
   "metadata": {},
   "source": [
    "<span style=\"color:green\">**Pregunta 2:**</span> ¿qué tipo de variable es `longitude`? Responder la misma pregunta para `latitude` y para `number_of_strikes`.\n",
    "\n",
    "<span style=\"color:green\">**Respuesta:**</span> \n",
    "\n",
    "<span style=\"color:green\">**Respuesta:**</span>\n",
    "\n",
    "<span style=\"color:green\">**Respuesta:**</span>\n"
   ]
  },
  {
   "cell_type": "code",
   "execution_count": null,
   "id": "8b4b85b8",
   "metadata": {},
   "outputs": [],
   "source": [
    "# Imprimir las primeras 13 filas del conjunto de datos\n",
    "df.head(13)"
   ]
  },
  {
   "cell_type": "code",
   "execution_count": null,
   "id": "74e5df8b",
   "metadata": {},
   "outputs": [],
   "source": [
    "# Imprimir cinco filas aleatorias del conjunto de datos\n",
    "df.sample(5)"
   ]
  },
  {
   "cell_type": "code",
   "execution_count": null,
   "id": "d289e10a",
   "metadata": {},
   "outputs": [],
   "source": [
    "# Imprimir las últimas cinco filas del conjunto de datos\n",
    "df.tail()"
   ]
  },
  {
   "cell_type": "markdown",
   "id": "dee20ba6",
   "metadata": {},
   "source": [
    "Mostraremos una sola columna. Lo haremos en dos formatos distintos."
   ]
  },
  {
   "cell_type": "code",
   "execution_count": null,
   "id": "00391181",
   "metadata": {},
   "outputs": [],
   "source": [
    "# Mostrar una columna. Se muestra en forma de serie (= sin formato de dataframe)\n",
    "df['date']"
   ]
  },
  {
   "cell_type": "code",
   "execution_count": null,
   "id": "98dbcfd5",
   "metadata": {},
   "outputs": [],
   "source": [
    "# Mostrar una columna (con formato de dataframe)\n",
    "df[['date']]\n"
   ]
  },
  {
   "cell_type": "markdown",
   "id": "0fe66d7e",
   "metadata": {},
   "source": [
    "Ahora mostraremos más de una columna. Solo se puede en formato dataframe."
   ]
  },
  {
   "cell_type": "code",
   "execution_count": null,
   "id": "6e5c9ab6",
   "metadata": {},
   "outputs": [],
   "source": [
    "# Mostrar dos columnas. Se muestra en forma de serie (= sin formato de dataframe)\n",
    "df[['date', 'latitude']]"
   ]
  },
  {
   "cell_type": "markdown",
   "id": "21d3fca6",
   "metadata": {},
   "source": [
    "### Información básica"
   ]
  },
  {
   "cell_type": "code",
   "execution_count": null,
   "id": "7c40a5c1",
   "metadata": {},
   "outputs": [],
   "source": [
    "# Mostrar información básica del conjunto de Datos\n",
    "df.info()"
   ]
  },
  {
   "cell_type": "markdown",
   "id": "d29ed8a7",
   "metadata": {},
   "source": [
    "<span style=\"color:green\">**Pregunta 3:**</span> ¿desde qué número se enumeran las columnas?\n",
    "\n",
    "<span style=\"color:green\">**Respuesta:**</span> "
   ]
  },
  {
   "cell_type": "markdown",
   "id": "496c9787",
   "metadata": {},
   "source": [
    "<span style=\"color:green\">**Pregunta 4:**</span> ¿Hay algún valor nulo? ¿Qué tipos de variables (Python) aparecen?\n",
    "\n",
    "<span style=\"color:green\">**Respuesta:**</span> \n"
   ]
  },
  {
   "cell_type": "markdown",
   "id": "e41e6574",
   "metadata": {},
   "source": [
    "Ahora miraremos cuántas filas y columnas tiene nuestro conjunto de datos. Lo haremos llamando a nuestro primer atributo \".atributo\"."
   ]
  },
  {
   "cell_type": "code",
   "execution_count": null,
   "id": "eaf7ddbf",
   "metadata": {},
   "outputs": [],
   "source": [
    "# Mostrar la forma del conjunto de datos\n",
    "df.shape"
   ]
  },
  {
   "cell_type": "markdown",
   "id": "538eb2c4",
   "metadata": {},
   "source": [
    "<span style=\"color:green\">**Pregunta 5:**</span> ¿cuántas filas y columnas tiene el conjunto de datos?\n",
    "\n",
    "<span style=\"color:green\">**Respuesta:**</span> \n"
   ]
  },
  {
   "cell_type": "code",
   "execution_count": null,
   "id": "f13ae563",
   "metadata": {},
   "outputs": [],
   "source": [
    "# Mostrar el total de datos o valores del conjunto de datos\n",
    "df.size"
   ]
  },
  {
   "cell_type": "code",
   "execution_count": null,
   "id": "33c1ac3e",
   "metadata": {},
   "outputs": [],
   "source": [
    "# Comprobar la cantidad de datos o valores del conjunto de datos\n",
    "717530*5"
   ]
  },
  {
   "cell_type": "code",
   "execution_count": null,
   "id": "036c4a70",
   "metadata": {},
   "outputs": [],
   "source": [
    "# Mostrar 'True' si el valor o dato es nulo; 'False' en caso contrario.\n",
    "df.isna()"
   ]
  },
  {
   "cell_type": "code",
   "execution_count": null,
   "id": "0ebeba89",
   "metadata": {},
   "outputs": [],
   "source": [
    "# Comprobar cuántos datos nulos tiene cada columna de una forma más cómoda(forma alterantiva)\n",
    "df.isna().sum()"
   ]
  },
  {
   "cell_type": "markdown",
   "id": "cc30cd05",
   "metadata": {},
   "source": [
    "Revisemos los valores que tiene cada columna. Empecemos calculando la frecuencia de cada categoría en una variable específica."
   ]
  },
  {
   "cell_type": "code",
   "execution_count": null,
   "id": "7c761394",
   "metadata": {},
   "outputs": [],
   "source": [
    "# Muestra la frecuencia de cada fecha.\n",
    "df['date'].value_counts()"
   ]
  },
  {
   "cell_type": "code",
   "execution_count": null,
   "id": "f22774b6",
   "metadata": {},
   "outputs": [],
   "source": [
    "# Muestra la frecuencia de cada fecha, pero en formato ascendente.\n",
    "df['date'].value_counts(ascending=True)"
   ]
  },
  {
   "cell_type": "markdown",
   "id": "ed2cabc6",
   "metadata": {},
   "source": [
    "## Descripción estadística"
   ]
  },
  {
   "cell_type": "code",
   "execution_count": null,
   "id": "0c59eebb",
   "metadata": {},
   "outputs": [],
   "source": [
    "# Describir todas las variables del conjunto\n",
    "df.describe(include='all')"
   ]
  },
  {
   "cell_type": "markdown",
   "id": "e6d6361f",
   "metadata": {},
   "source": [
    "<span style=\"color:green\">**Pregunta 6:**</span> ¿qué es `NaN`? ¿Qué significan los `NaN` en la columna `date`? ¿Y en la columna `latitude`?\n",
    "\n",
    "<span style=\"color:green\">**Respuesta:**</span> \n"
   ]
  },
  {
   "cell_type": "markdown",
   "id": "c4e1dcf1",
   "metadata": {},
   "source": [
    "<span style=\"color:green\">**Pregunta 7:**</span> ¿Qué información dan `count`, `unique`, `top` , `freq` y `mean`? Revisarlas sus valores en cada columna.  ¿Hay algún valor que no tenga sentido?\n",
    "\n",
    "<span style=\"color:green\">**Respuesta:**</span> \n"
   ]
  },
  {
   "cell_type": "markdown",
   "id": "9de3dd4a",
   "metadata": {},
   "source": [
    "<span style=\"color:green\">**Pregunta 8:**</span> Revisar el mínimo, el dato en el 25 %, en el 50 % (en la mitad), en el 75 % y en el máximo de cada columna. ¿Hay algún valor que no tenga sentido?\n",
    "\n",
    "<span style=\"color:green\">**Respuesta:**</span> \n"
   ]
  },
  {
   "cell_type": "markdown",
   "id": "e046184c",
   "metadata": {},
   "source": [
    "<span style=\"color:red\">**Es demasiado importante:**</span> revisar la documentación todo el tiempo. Vamos a hacerlo para el método [.describe](https://pandas.pydata.org/docs/reference/api/pandas.DataFrame.describe.html) de la librería Pandas."
   ]
  },
  {
   "cell_type": "markdown",
   "id": "0881a3fc",
   "metadata": {},
   "source": [
    "## Cargar otro conjunto de datos"
   ]
  },
  {
   "cell_type": "markdown",
   "id": "0cc94ef8",
   "metadata": {},
   "source": [
    "Ahora vamos a cargar un nuevo conjunto de datos también con información sobre rayos y lo llamaremos `df2`"
   ]
  },
  {
   "cell_type": "code",
   "execution_count": null,
   "id": "849f135b",
   "metadata": {},
   "outputs": [],
   "source": [
    "# Cargar el conjunto de datos que está en eda_missing_data_dataset2.csv y llamarlo df2\n"
   ]
  },
  {
   "cell_type": "code",
   "execution_count": null,
   "id": "fbc28ec5",
   "metadata": {},
   "outputs": [],
   "source": [
    "# Visualizar las primeras cinco filas de este dataframe df2\n"
   ]
  },
  {
   "cell_type": "markdown",
   "id": "d4e58e8c",
   "metadata": {},
   "source": [
    "### Ejercicio para clase"
   ]
  },
  {
   "cell_type": "markdown",
   "id": "74fa98ab",
   "metadata": {},
   "source": [
    "<span style=\"color:green\">**Ejercicio 1:**</span> Hacer un análisis completo para df2 como el que hicimos arriba para df. Utilizar todas las celdas de código (code) y texto (markdown) que sean necesarias."
   ]
  },
  {
   "cell_type": "code",
   "execution_count": null,
   "id": "1f9103d7",
   "metadata": {},
   "outputs": [],
   "source": [
    "# Empezar el ejercicio acá"
   ]
  },
  {
   "cell_type": "markdown",
   "id": "1eabc66f",
   "metadata": {},
   "source": [
    "### Visualización de algunos datos"
   ]
  },
  {
   "cell_type": "markdown",
   "id": "124d831b",
   "metadata": {},
   "source": [
    "<span style=\"color:green\">**Pregunta 9:**</span> ¿qué tipo de variable es `state`? Si quisiéramos graficar el número de truenos por estado que hay en `df2` por cada estado, ¿qué gráfico sería apropiado?\n",
    "\n",
    "<span style=\"color:green\">**Respuesta:**</span> "
   ]
  },
  {
   "cell_type": "code",
   "execution_count": null,
   "id": "23db8cb3",
   "metadata": {},
   "outputs": [],
   "source": [
    "# Gráfico de barras de número de truenos vs estado\n",
    "sns.barplot(data=df2, x='state', y='number_of_strikes')"
   ]
  },
  {
   "cell_type": "markdown",
   "id": "38ba8f38",
   "metadata": {},
   "source": [
    "<span style=\"color:green\">**Pregunta 10:**</span> En el gráfico anterior los nombres de los estados se ven superpuestos. ¿qué modificación podríamos hacerle al gráfico de barras? Responda y grafique con dicha modificación.\n",
    "\n",
    "<span style=\"color:green\">**Respuesta:**</span> "
   ]
  },
  {
   "cell_type": "code",
   "execution_count": null,
   "id": "92484289",
   "metadata": {},
   "outputs": [],
   "source": [
    "# Gráfica y comentario respectivo\n"
   ]
  },
  {
   "cell_type": "markdown",
   "id": "945f0839",
   "metadata": {},
   "source": [
    "Sigue estando superpuesta. Entonces podríamos ampliar la ventana del gráfico para resolver ese problema."
   ]
  },
  {
   "cell_type": "code",
   "execution_count": null,
   "id": "65ba1b89",
   "metadata": {},
   "outputs": [],
   "source": [
    "# Modificar el ancho y el largo de la ventana que muestra el gráfico\n",
    "plt.figure(figsize=(13,7))\n",
    "\n",
    "# Gráfico de barras de número de truenos vs estado\n",
    "sns.barplot(data=df2, x='state', y='number_of_strikes')"
   ]
  },
  {
   "cell_type": "markdown",
   "id": "70a5ce17",
   "metadata": {},
   "source": [
    "Sigue estando superpuesto. \n",
    "\n",
    "<span style=\"color:green\">**Ejercicio 2:**</span> Probar a cambiar la ventana para el gráfico con los estados en el eje horizontal."
   ]
  },
  {
   "cell_type": "code",
   "execution_count": null,
   "id": "55a8b0bb",
   "metadata": {},
   "outputs": [],
   "source": [
    "# Código y su respectivo comentario"
   ]
  },
  {
   "cell_type": "markdown",
   "id": "bbd00c71",
   "metadata": {},
   "source": [
    "<span style=\"color:green\">**Pregunta 11:**</span> ¿qué tipo de variable es `state`? Si quisiéramos graficar el número de registros que hay en el conjunto de datos por cada estado, ¿qué gráfico sería apropiado?\n",
    "\n",
    "<span style=\"color:green\">**Respuesta:**</span> "
   ]
  },
  {
   "cell_type": "markdown",
   "id": "05c0d8c7",
   "metadata": {},
   "source": [
    "<span style=\"color:green\">**Ejercicio 3:**</span> calcular cuántos registros hay por cada estado en `df2` y guardar esa información en una variable llamada `ciudades`."
   ]
  },
  {
   "cell_type": "code",
   "execution_count": 41,
   "id": "50a451c5",
   "metadata": {},
   "outputs": [],
   "source": [
    "# Escribir el código y su respectivo comentario acá\n",
    "estados = df2[['state']].value_counts()"
   ]
  },
  {
   "cell_type": "markdown",
   "id": "d3a759c8",
   "metadata": {},
   "source": [
    "<span style=\"color:green\">**Ejercicio 4:**</span> de `estados`, almacenar los 10 estados con más registros en una nueva variable llamada `estados_10`."
   ]
  },
  {
   "cell_type": "code",
   "execution_count": null,
   "id": "2a451be2",
   "metadata": {},
   "outputs": [],
   "source": [
    "# definir una variable con las 10 ciudades con más registros\n",
    "estados_10 = estados.head(10)\n",
    "estados_10"
   ]
  },
  {
   "cell_type": "markdown",
   "id": "7b222c0f",
   "metadata": {},
   "source": [
    "Convertiremos `estados_10` en un dataframe."
   ]
  },
  {
   "cell_type": "code",
   "execution_count": null,
   "id": "bff026e8",
   "metadata": {},
   "outputs": [],
   "source": [
    "# Crear un dataframe con la información en estados_10 y asignarlo a esa misma variable.\n",
    "estados_10 = pd.DataFrame(estados_10)\n",
    "\n",
    "# Visualizar estados_10\n",
    "estados_10"
   ]
  },
  {
   "cell_type": "code",
   "execution_count": null,
   "id": "bb2178b5",
   "metadata": {},
   "outputs": [],
   "source": [
    "# Reiniciar el índice del estados_10 para que state sea también una columna del dataframe\n",
    "estados_10 = estados_10.reset_index()\n",
    "\n",
    "# Visualizar estados_10\n",
    "estados_10"
   ]
  },
  {
   "cell_type": "markdown",
   "id": "db74d339",
   "metadata": {},
   "source": [
    "Crear un gráfico de barras con la información en `estados_10`."
   ]
  },
  {
   "cell_type": "code",
   "execution_count": null,
   "id": "c6e5f431",
   "metadata": {},
   "outputs": [],
   "source": [
    "# Gráfico de barras del número de registros en cada estado.\n"
   ]
  },
  {
   "cell_type": "markdown",
   "id": "5ea977d4",
   "metadata": {},
   "source": [
    "En el gráfico anterior los nombres de los estados quedan superpuestos. Resolver el problema cambiando el código.\n"
   ]
  },
  {
   "cell_type": "code",
   "execution_count": null,
   "id": "0cd8e489",
   "metadata": {},
   "outputs": [],
   "source": [
    "# Código para graficar y su comentario\n"
   ]
  },
  {
   "cell_type": "markdown",
   "id": "48dadb8c",
   "metadata": {},
   "source": [
    "Si quisiéramos saber la frecuencia relativa de la cantidad de registros por estado en `df2`, podemos usar el método `.value_counts()` junto con su parámetro `normalize` igual a `True`."
   ]
  },
  {
   "cell_type": "code",
   "execution_count": null,
   "id": "ae0d54d5",
   "metadata": {},
   "outputs": [],
   "source": [
    "# Frecuencia relativa de cada estado en df2\n",
    "df2['state'].value_counts(normalize=True)"
   ]
  },
  {
   "cell_type": "markdown",
   "id": "c335c7ba",
   "metadata": {},
   "source": [
    "Para sacar la frecuencia en porcentajes podemos simplemente multiplicar por 100 el código anterior y asignémosle el nombre de `estados_porcentaje`."
   ]
  },
  {
   "cell_type": "code",
   "execution_count": null,
   "id": "fdeed5d3",
   "metadata": {},
   "outputs": [],
   "source": [
    "# Frecuencia en porcentajes de cada estado en df2\n",
    "estados_porcentaje = df2['state'].value_counts(normalize=True) * 100\n",
    "\n",
    "# visualizar estados_porcentaje\n",
    "estados_porcentaje"
   ]
  },
  {
   "cell_type": "markdown",
   "id": "66c5affc",
   "metadata": {},
   "source": [
    "<span style=\"color:green\">**Ejercicio 5:**</span> \n",
    "1. Seleccionar los 10 estados con mayor porcentaje de registros y almacenarlo en una variable llamada `estados_10_porcentaje`\n",
    "2. Convertir `estados_10_porcentaje` en un dataframe y reiniciar su índice."
   ]
  },
  {
   "cell_type": "code",
   "execution_count": null,
   "id": "6df4002c",
   "metadata": {},
   "outputs": [],
   "source": [
    "# Resolver acá con sus comentarios respectivos"
   ]
  },
  {
   "cell_type": "markdown",
   "id": "d9c03304",
   "metadata": {},
   "source": [
    "Cree un gráfico apropiado con dichos datos."
   ]
  },
  {
   "cell_type": "code",
   "execution_count": null,
   "id": "6e2779a8",
   "metadata": {},
   "outputs": [],
   "source": [
    "# Gráfico y comentario respectivo"
   ]
  },
  {
   "cell_type": "markdown",
   "id": "5596f184",
   "metadata": {},
   "source": [
    "La librería `Seaborn` no trae métodos para hacer gráficos circulares, así que utilizaremos la librería `Matplotlib`, que es de hecho sobre la que están creadas muchas librerías de visualizaciones como Seaborn.\n",
    "\n",
    "Las librerías contienen paquetes (algo así como un texto tiene secciones nombradas con subtítulos). En esta analogía, el título del texto es la el nombre de librería (ejemplo: `Matplotlib`) y una de las secciones es el paquete con nombre `pyplot`. A `pyplot` se le acostumbra a llamar `plt` para que sea más corto."
   ]
  },
  {
   "cell_type": "code",
   "execution_count": null,
   "id": "5e3b4438",
   "metadata": {},
   "outputs": [],
   "source": [
    "# Este lo haremos después."
   ]
  },
  {
   "cell_type": "markdown",
   "id": "544a6eee",
   "metadata": {},
   "source": [
    "## Fusión de conjuntos de datos - Merge"
   ]
  },
  {
   "cell_type": "markdown",
   "id": "f76c80c6",
   "metadata": {},
   "source": [
    "Examinaremos los datos sobre impactos de rayos recopilados por la Asociación Nacional Oceánica y Atmosférica (NOAA) durante agosto de 2018 y para ello utilizaremos el conjunto de datos `df` como el principal de tal manera que sus registros les añadiremos información de `df2`.\n"
   ]
  },
  {
   "cell_type": "markdown",
   "id": "fbe91097",
   "metadata": {},
   "source": [
    "Una vez que hemos terminado el análisis para `df2`, procedamos a revisar si los dos conjuntos de datos tienen observaciones en común o si son completamente distintos.\n",
    "\n",
    "Hagamos una inspección inicial a ver qué sucede. Como `df2` no está organizado por fecha, podríamos organizarlo en order ascendente a ver si sus primeros regristros coinciden con los de `df`."
   ]
  },
  {
   "cell_type": "code",
   "execution_count": null,
   "id": "42447cb2",
   "metadata": {},
   "outputs": [],
   "source": [
    "# Ordenar df2 for fecha y en orden ascendente\n",
    "df2.sort_values(by='date', ascending=True)"
   ]
  },
  {
   "cell_type": "code",
   "execution_count": null,
   "id": "58d1189d",
   "metadata": {},
   "outputs": [],
   "source": [
    "# Visualizar df2\n"
   ]
  },
  {
   "cell_type": "markdown",
   "id": "8b6d7a6d",
   "metadata": {},
   "source": [
    "<span style=\"color:green\">**Pregunta 13:**</span> al visualizar `df2`, ¿se aplicaron los cambios sobre organizar este conjunto de datos por fecha ascendente?\n",
    "\n",
    "<span style=\"color:green\">**Respuesta:**</span> "
   ]
  },
  {
   "cell_type": "markdown",
   "id": "aee98fa3",
   "metadata": {},
   "source": [
    "Para garantizar que el cambio suceda en `df2` tendríamos que reasignar la modificación que hicimos a la variable `df2`."
   ]
  },
  {
   "cell_type": "code",
   "execution_count": null,
   "id": "1cd001f0",
   "metadata": {},
   "outputs": [],
   "source": [
    "# Reasignar df2 al cojunto ordenado por fecha ascendente\n",
    "df2 = df2.sort_values(by='date', ascending=True)"
   ]
  },
  {
   "cell_type": "code",
   "execution_count": null,
   "id": "2e0b8710",
   "metadata": {},
   "outputs": [],
   "source": [
    "# Visualizar df2\n"
   ]
  },
  {
   "cell_type": "code",
   "execution_count": null,
   "id": "dc35a378",
   "metadata": {},
   "outputs": [],
   "source": [
    "# Mostrar las primeras cinco filas de df\n"
   ]
  },
  {
   "cell_type": "markdown",
   "id": "af6958bd",
   "metadata": {},
   "source": [
    "<span style=\"color:green\">**Pregunta 14:**</span> revisar las primeras 5 filas de ambos conjuntos de datos (`df` y `df2` organizado por fecha), ¿hay algún registro que coincida?\n",
    "\n",
    "<span style=\"color:green\">**Respuesta:**</span> "
   ]
  },
  {
   "cell_type": "markdown",
   "id": "e5674c3c",
   "metadata": {},
   "source": [
    "Podríamos también buscar un registro específico de `df` en `df2` a ver si lo tienen en común. Por ejemplo, busquemos si en `df2` está el primer registro que aparece en `df`. Para ello podemos crear una variable que filtre si hay un registro en `df2` que su `date` sea `2018-08-01` y su `center_point_geom` sea `POINT(-81.6 22.6)`."
   ]
  },
  {
   "cell_type": "code",
   "execution_count": null,
   "id": "6e3a7be4",
   "metadata": {},
   "outputs": [],
   "source": [
    "# Crear filtro para df2. Los paréntesis son necesarios para separar distintos requerimientos\n",
    "filtro = (df2['date'] == '2018-08-01') & (df2['center_point_geom'] == 'POINT(-81.6 22.6)')\n",
    "\n",
    "# Aplicar el filtro en df2\n",
    "df2[filtro]"
   ]
  },
  {
   "cell_type": "markdown",
   "id": "bce2d612",
   "metadata": {},
   "source": [
    "<span style=\"color:green\">**Pregunta 15:**</span> ¿aparece dicho registro en `df2`?\n",
    "\n",
    "<span style=\"color:green\">**Respuesta:**</span> "
   ]
  },
  {
   "cell_type": "markdown",
   "id": "a6ccedb2",
   "metadata": {},
   "source": [
    "Hagamos la búsqueda al contrario. Tomemos el primero de los registros de `df2` y busquémoslo en `df`."
   ]
  },
  {
   "cell_type": "code",
   "execution_count": null,
   "id": "8f5466c7",
   "metadata": {},
   "outputs": [],
   "source": [
    "# Crear filtro para df. Los paréntesis son necesarios para separar distintos requerimientos\n",
    "\n",
    "# Aplicar el filtro en df\n"
   ]
  },
  {
   "cell_type": "markdown",
   "id": "bed2ffab",
   "metadata": {},
   "source": [
    "Gracias a los códigos anteriores, ya sabemos cómo organizar un conjunto de datos por columna y cómo filtrar registros. Logramos encontrar que hay al menos una fila de `df2` que también está presente en `df`. Sin embargo, no parecen ser maneras muy eficientes. Una alternativa es fusionar ambos conjuntos de datos y revisar qué sucede. Para fusionar hay varias formas (esto quedará de tarea para la próxima clase), pero por ahora recordemos que usaremos a `df` como el conjunto de datos principal y a `df2` solo lo usaremos para añadir información a los registros ya existentes de `df1`. Al nuevo conjunto lo llamaremos `truenos_df` y lo crearemos con el siguiente código:"
   ]
  },
  {
   "cell_type": "code",
   "execution_count": null,
   "id": "aab28662",
   "metadata": {},
   "outputs": [],
   "source": [
    "# Añadir a df la información de df2 mediante fusión 'left'. Esta nuevo conjunto de datos se llamará truenos_df\n",
    "truenos_df = df.merge(df2, how='left', on=['date', 'center_point_geom'])\n",
    "\n",
    "# Visualizar el nuevo conjunto de datos\n",
    "truenos_df"
   ]
  },
  {
   "cell_type": "markdown",
   "id": "2febb65d",
   "metadata": {},
   "source": [
    "Como en el código anterior no pusimos la columna `number_of_strikes` en el parámetro `on`, ahora nos aparecen dos columnas: la de `df`  `number_of_strikes_x` y la de `df2` `number_of_strikes_y`.\n",
    "\n",
    "En nuestro nuevo conjunto de datos nos aparecen ahora muchos campos vacíos, `NaN`. Encontremos cuántos campos nulos hay en cada variable."
   ]
  },
  {
   "cell_type": "code",
   "execution_count": null,
   "id": "9f4f90d0",
   "metadata": {},
   "outputs": [],
   "source": [
    "# Número de campos nulos en cada variable de truenos_df\n"
   ]
  },
  {
   "cell_type": "markdown",
   "id": "d4fa5c0f",
   "metadata": {},
   "source": [
    "<span style=\"color:green\">**Pregunta 16:**</span> ¿en qué variables hay campos nulos? ¿Cuántos campos nulos hay en dichas variables?\n",
    "\n",
    "<span style=\"color:green\">**Respuesta:**</span> "
   ]
  },
  {
   "cell_type": "code",
   "execution_count": null,
   "id": "0ad39d69",
   "metadata": {},
   "outputs": [],
   "source": []
  }
 ],
 "metadata": {
  "kernelspec": {
   "display_name": "Python 3",
   "language": "python",
   "name": "python3"
  },
  "language_info": {
   "codemirror_mode": {
    "name": "ipython",
    "version": 3
   },
   "file_extension": ".py",
   "mimetype": "text/x-python",
   "name": "python",
   "nbconvert_exporter": "python",
   "pygments_lexer": "ipython3",
   "version": "3.12.2"
  }
 },
 "nbformat": 4,
 "nbformat_minor": 5
}
